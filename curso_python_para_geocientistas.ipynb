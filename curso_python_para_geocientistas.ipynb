{
  "nbformat": 4,
  "nbformat_minor": 0,
  "metadata": {
    "colab": {
      "name": "curso_python_para_geocientistas.ipynb",
      "provenance": [],
      "collapsed_sections": [
        "gkbZoJxrzKzc",
        "2Kc2oKgIxpfR",
        "IWPo_Ipuya9I",
        "mndPv1NMzims",
        "1nG7Tuhu11__",
        "wb44wKBW8RiB",
        "rELmS2A88kMW",
        "B8t3BozY87NN",
        "hsLpbLyXB18b",
        "tlF0y9H3DGm7"
      ],
      "authorship_tag": "ABX9TyPUPrBA5XRV5FtynRwTZwuR",
      "include_colab_link": true
    },
    "kernelspec": {
      "name": "python3",
      "display_name": "Python 3"
    },
    "language_info": {
      "name": "python"
    }
  },
  "cells": [
    {
      "cell_type": "markdown",
      "metadata": {
        "id": "view-in-github",
        "colab_type": "text"
      },
      "source": [
        "<a href=\"https://colab.research.google.com/github/jonatanriq/oceanografia/blob/main/curso_python_para_geocientistas.ipynb\" target=\"_parent\"><img src=\"https://colab.research.google.com/assets/colab-badge.svg\" alt=\"Open In Colab\"/></a>"
      ]
    },
    {
      "cell_type": "markdown",
      "metadata": {
        "id": "yJML_yPvtP0C"
      },
      "source": [
        "**Aula 01 - Criação de Variáveis**"
      ]
    },
    {
      "cell_type": "markdown",
      "metadata": {
        "id": "gkbZoJxrzKzc"
      },
      "source": [
        "# 1. Criando diversos tipos de variáveis"
      ]
    },
    {
      "cell_type": "code",
      "metadata": {
        "id": "13oImj1YGOet",
        "colab": {
          "base_uri": "https://localhost:8080/"
        },
        "outputId": "5e34b16b-0147-4dea-913e-bae3c14768f3"
      },
      "source": [
        "# criando uma variável string\n",
        "nome = 'Jonatan'\n",
        "print(nome)\n",
        "print('A variável \"nome\" é do tipo:', type(nome)) \n",
        "\n",
        "# criando uma variável inteira\n",
        "idade = 12\n",
        "idade = float(idade) # forço a ser float\n",
        "print('A variável \"idade\" é do tipo:',type(idade)) \n",
        "\n",
        "# criando uma variável float \n",
        "peso = 62.9\n",
        "print('A variável \"peso\" é do tipo:', type(peso))\n",
        "\n",
        "# criando variável booleana -> ou é 'True' ou 'False'\n",
        "falso = peso > 70\n",
        "print('A variável \"falso\" é do tipo:',type(falso))\n",
        "verdadeiro = peso < 70\n",
        "print('A variável \"verdade\" é do tipo:',type(verdadeiro))\n",
        "\n",
        "# criando variável vazia \n",
        "x = None\n",
        "print('A variável \"x\" é do tipo:',type(x))"
      ],
      "execution_count": 22,
      "outputs": [
        {
          "output_type": "stream",
          "text": [
            "Jonatan\n",
            "A variável \"nome\" é do tipo: <class 'str'>\n",
            "A variável \"idade\" é do tipo: <class 'float'>\n",
            "A variável \"peso\" é do tipo: <class 'float'>\n",
            "A variável \"falso\" é do tipo: <class 'bool'>\n",
            "A variável \"verdade\" é do tipo: <class 'bool'>\n",
            "A variável \"x\" é do tipo: <class 'NoneType'>\n"
          ],
          "name": "stdout"
        }
      ]
    },
    {
      "cell_type": "markdown",
      "metadata": {
        "id": "2Kc2oKgIxpfR"
      },
      "source": [
        "# 2. Aprendendo a criar comentários extensos"
      ]
    },
    {
      "cell_type": "code",
      "metadata": {
        "id": "MDJcMUxYpDa4"
      },
      "source": [
        "''' \n",
        "Criando um bloco de comentários extenso, no caso este\n",
        "aqui pode pular linhas sem nenhum problema\n",
        "'''"
      ],
      "execution_count": null,
      "outputs": []
    },
    {
      "cell_type": "markdown",
      "metadata": {
        "id": "IWPo_Ipuya9I"
      },
      "source": [
        "# 3. Aprendendo a utilizar a função 'Input()'"
      ]
    },
    {
      "cell_type": "code",
      "metadata": {
        "colab": {
          "base_uri": "https://localhost:8080/"
        },
        "id": "C-hZiBd1r5Xn",
        "outputId": "19d3487f-d1f3-4978-fc0a-3b55082f4b1d"
      },
      "source": [
        "idade = int(input('Entre com a sua idade: '))\n",
        "print(type(idade))"
      ],
      "execution_count": 27,
      "outputs": [
        {
          "output_type": "stream",
          "text": [
            "Entre com a sua idade: 20\n",
            "<class 'int'>\n"
          ],
          "name": "stdout"
        }
      ]
    },
    {
      "cell_type": "markdown",
      "metadata": {
        "id": "mndPv1NMzims"
      },
      "source": [
        "# 4. Operações Matemáticas"
      ]
    },
    {
      "cell_type": "code",
      "metadata": {
        "id": "i-Rs59ZDyhm1"
      },
      "source": [
        "'''\n",
        "Neste bloco realizaremos algumas operações matemáticas básicas\n",
        "'''\n",
        "A = 2\n",
        "B = 3\n",
        "\n",
        "C = A+B\n",
        "print(f'A variável C é igual a: {C}')\n",
        "\n",
        "D = C-A\n",
        "print(f'A varíavel D é igual a: {D}')\n",
        "\n",
        "resultado = D*A\n",
        "print(f'O resultado desta multiplicação é: {resultado}')\n",
        "\n",
        "divisao = 100/3\n",
        "print(f'O resultado desta divisão é: {divisao}')\n",
        "\n",
        "exponencial = divisao**2\n",
        "print(f'O resultado da exponencial é: {exponencial}')\n",
        "\n",
        "resto = 6%2\n",
        "print(f'O resto desta divisão é: {resto}')\n",
        "\n",
        "resto = 12563%3\n",
        "print(f'O resto desta divisão é: {resto}')"
      ],
      "execution_count": null,
      "outputs": []
    },
    {
      "cell_type": "markdown",
      "metadata": {
        "id": "1nG7Tuhu11__"
      },
      "source": [
        "# 5. Praticando"
      ]
    },
    {
      "cell_type": "code",
      "metadata": {
        "id": "3thiUi0O148S"
      },
      "source": [
        "# unindo o uso das funções print e input com o uso das operações matemáticas básicas\n",
        "nome = str(input('Digite o seu nome: ')).strip()\n",
        "peso = float(input('Digite o seu peso: '))\n",
        "print(f'A pessoa que se chama {nome}, pesa o total de {peso} kg')\n",
        "\n",
        "# Exemplo área de oceanografia\n",
        "altura_de_mare = float(input('Entre com o valor da altura da maré em metros: '))\n",
        "print(f'O valor da altura da maré é de {altura_de_mare} m')"
      ],
      "execution_count": null,
      "outputs": []
    },
    {
      "cell_type": "markdown",
      "metadata": {
        "id": "wb44wKBW8RiB"
      },
      "source": [
        "# 6. Exercícios de Aula"
      ]
    },
    {
      "cell_type": "code",
      "metadata": {
        "id": "Y4jB9osy2QnE"
      },
      "source": [
        "# Exercícios aula 01\n",
        "\n",
        "# Questão 1\n",
        "print('=-=-=-=-=-=-=Questão 1=-=-=-=-=-=-= ')\n",
        "frase = str(input('Digite uma frase que deseje imprimir: '))\n",
        "print(frase)\n",
        "\n",
        "# Questão 2\n",
        "print('=-=-=-=-=-=-=Questão 2=-=-=-=-=-=-= ')\n",
        "nome = str(input('Qual o seu nome? '))\n",
        "idade = int(input('Qual a sua idade? '))\n",
        "print(f'Oi {nome}, você tem {idade} anos e faltam {100 - idade} anos para chegar a marca dos 100! ')\n",
        "\n",
        "# Questão 3\n",
        "print('=-=-=-=-=-=-=Questão 3=-=-=-=-=-=-= ')\n",
        "n = int(input('Digite um número: ')) # estou pedindo um número\n",
        "print(int(n**0.5)) # printando o número inteiro que corresponde a raiz do número solicitado\n",
        "\n",
        "\n",
        "# Questão 4\n",
        "print('=-=-=-=-=-=-=Questão 4=-=-=-=-=-=-= ')\n",
        "lista = ['olá', 2, 2.4, False]\n",
        "print(lista)\n",
        "print('O primeiro elemento tem tipo:',type(lista[0]),\n",
        "      '\\nO segundo elemento tem tipo:',type(lista[1]),\n",
        "      '\\nO terceiro elemento tem tipo:',type(lista[2]),\n",
        "      '\\nO quarto elemento tem tupo:',type(lista[3]))"
      ],
      "execution_count": null,
      "outputs": []
    },
    {
      "cell_type": "markdown",
      "metadata": {
        "id": "rELmS2A88kMW"
      },
      "source": [
        "# 7. Estrutura de dados [BÔNUS]"
      ]
    },
    {
      "cell_type": "markdown",
      "metadata": {
        "id": "B8t3BozY87NN"
      },
      "source": [
        "## 7.1 Trabalhando com listas"
      ]
    },
    {
      "cell_type": "code",
      "metadata": {
        "id": "qivuANkn8qOJ"
      },
      "source": [
        "''' \n",
        "A lista é um conjunto de elementos indexados, de forma que cada elemento é identificado por um \n",
        "índice. O primeiro item da lista recebe o índice 0, o segundo recebe índice 1 e assim por diante.\n",
        "'''\n",
        "\n",
        "# Criando uma lista vazia\n",
        "lista = []\n",
        "\n",
        "# Acrescentando elementos a esta lista\n",
        "lista.append('Oi mundo')\n",
        "\n",
        "# Verificando o tipo das variáveis da lista\n",
        "print(type(lista[0]))\n",
        "\n",
        "# É possível acrescentar outros tipos de variáveis numa mesma lista?\n",
        "lista.append(1)\n",
        "print(type(lista[1]))\n",
        "\n",
        "# Verificando o tamanho da lista\n",
        "print(lista)\n",
        "len(lista)\n",
        "\n",
        "# Alterando um elemento da lista\n",
        "lista[0] = 'Mudei o primeiro elemento'\n",
        "print(lista)\n",
        "\n",
        "# Removendo um item da lista\n",
        "lista.remove('Mudei o primeiro elemento') # remove pelo conteúdo do elemento\n",
        "print(lista)\n",
        "lista.pop(0) # remove pelo índice do elemento\n",
        "print(lista)\n"
      ],
      "execution_count": null,
      "outputs": []
    },
    {
      "cell_type": "markdown",
      "metadata": {
        "id": "hsLpbLyXB18b"
      },
      "source": [
        "## 7.2 Trabalhando com Tuplas"
      ]
    },
    {
      "cell_type": "code",
      "metadata": {
        "id": "PJbYExew_OCw"
      },
      "source": [
        "''' Tupla é uma estrutura de dados semelhante a lista.\n",
        "Contudo, tuplas são imutáveis, o que significa que uma tupla após\n",
        "sua criação não permite nenhuma alteração\n",
        "'''\n",
        "\n",
        "frutas = ('banana', 'abacaxi', 'laranja', 'tangerina')\n",
        "print(frutas)\n",
        "print(type(frutas))\n",
        "\n",
        "# Acessando os elementos da tupla\n",
        "print(frutas[0])\n",
        "print(frutas[3])\n",
        "\n",
        "''' Para criar uma tupla, é necessário colocar uma vírgula depois do item.\n",
        "caso contrário, o python entenderá que se trata de uma string\n",
        "'''\n",
        "# Verificando a diferença...\n",
        "tupla1= ('testando')\n",
        "print(type(tupla1))\n",
        "\n",
        "tupla2 = ('testando',)\n",
        "print(type(tupla2))"
      ],
      "execution_count": null,
      "outputs": []
    },
    {
      "cell_type": "markdown",
      "metadata": {
        "id": "tlF0y9H3DGm7"
      },
      "source": [
        "## 7.3 Trabalhando com Dicionários"
      ]
    },
    {
      "cell_type": "code",
      "metadata": {
        "colab": {
          "base_uri": "https://localhost:8080/"
        },
        "id": "HPKPXT5rCR00",
        "outputId": "930a1143-f4e0-4294-8ddc-8c6ff36721fc"
      },
      "source": [
        "''' \n",
        "O dicionário no Python apresenta um mapeamento nativo.\n",
        "O mapeamento é feito por uma chave, que faz referência a um valor (elemento).\n",
        "Esta chave quando atrelada a um elemento serve como identificador.\n",
        "'''\n",
        "\n",
        "# Criando um dicionário\n",
        "dados_onda = {\n",
        "    'Hs': [1.5, 2.1, 2.4],\n",
        "    'Tp': [12.0, 12.9, 12.3],\n",
        "    'Dp': [142, 145, 167]\n",
        "}\n",
        "\n",
        "print(dados_onda)\n",
        "print(dados_onda['Hs'])\n",
        "\n",
        "# Removendo elementos de um dicionário pelo nome\n",
        "dados_onda.pop('Hs') # -> Remove pelo .pop() usando identificador\n",
        "print(dados_onda)\n",
        "\n",
        "# Removendo pelo \"del\"\n",
        "del dados_onda['Tp']\n",
        "print(dados_onda)\n",
        "\n",
        "# Acrescentando elementos ao dicionário\n",
        "dados_onda['Tempo'] = '2020-01-02 00:00:00'\n",
        "print(dados_onda)"
      ],
      "execution_count": 96,
      "outputs": [
        {
          "output_type": "stream",
          "text": [
            "{'Hs': [1.5, 2.1, 2.4], 'Tp': [12.0, 12.9, 12.3], 'Dp': [142, 145, 167]}\n",
            "[1.5, 2.1, 2.4]\n",
            "{'Tp': [12.0, 12.9, 12.3], 'Dp': [142, 145, 167]}\n",
            "{'Dp': [142, 145, 167]}\n",
            "{'Dp': [142, 145, 167], 'Tempo': '2020-01-02 00:00:00'}\n"
          ],
          "name": "stdout"
        }
      ]
    },
    {
      "cell_type": "markdown",
      "metadata": {
        "id": "lL5qN8brFvMO"
      },
      "source": [
        "## 7.4 Exercícios"
      ]
    },
    {
      "cell_type": "code",
      "metadata": {
        "colab": {
          "base_uri": "https://localhost:8080/"
        },
        "id": "g_1u7baUF6nl",
        "outputId": "671b9bce-f07a-4066-d00d-c205a782960d"
      },
      "source": [
        "# Exercícios Aula Bônus\n",
        "\n",
        "# Exercício 1\n",
        "print('=-=-=-=-=-=-=Questão 1=-=-=-=-=-=-= ')\n",
        "lista = [3,6,7,12,98,35,23,65,9,45]\n",
        "print(lista)\n",
        "lista.pop(3)\n",
        "lista.pop(6)\n",
        "lista.append('palavra')\n",
        "print(lista)\n",
        "\n",
        "# Exercício 2\n",
        "\n",
        "''' \n",
        "O programa lerá a lista criada e definida na variável \"lista\"\n",
        "e então imprimirá apenas os valores pares selecionados pelos seus\n",
        "respectivos índices\n",
        "'''\n",
        "\n",
        "print('=-=-=-=-=-=-=Questão 2=-=-=-=-=-=-= ')\n",
        "lista = [0,1,2,3,4,5,6,7,8]\n",
        "print(lista[0],lista[2],lista[4],lista[6],lista[8])\n",
        "\n",
        "# Exercício 3\n",
        "\n",
        "''' \n",
        "Neste exercício o programa lerá o dicionário criado e em seguida,\n",
        "imprimirá o nome, a idade e o email através dos identificadores criados para o dicionário\n",
        "'''\n",
        "\n",
        "print('=-=-=-=-=-=-=Questão 3=-=-=-=-=-=-= ')\n",
        "dicionario = {\n",
        "    'nome': 'Jonatan',\n",
        "    'idade': 26,\n",
        "    'email': 'nasc.jonatan@gmail.com'\n",
        "}\n",
        "\n",
        "print('Nome:',dicionario['nome'],\n",
        "      '\\nIdade:',dicionario['idade'],\n",
        "      '\\nEmail:',dicionario['email'])"
      ],
      "execution_count": 136,
      "outputs": [
        {
          "output_type": "stream",
          "text": [
            "=-=-=-=-=-=-=Questão 1=-=-=-=-=-=-= \n",
            "[3, 6, 7, 12, 98, 35, 23, 65, 9, 45]\n",
            "[3, 6, 7, 98, 35, 23, 9, 45, 'palavra']\n",
            "=-=-=-=-=-=-=Questão 2=-=-=-=-=-=-= \n",
            "0 2 4 6 8\n",
            "=-=-=-=-=-=-=Questão 3=-=-=-=-=-=-= \n",
            "Nome: Jonatan \n",
            "Idade: 26 \n",
            "Email: nasc.jonatan@gmail.com\n"
          ],
          "name": "stdout"
        }
      ]
    },
    {
      "cell_type": "code",
      "metadata": {
        "id": "jVCeFfIwGOqK"
      },
      "source": [
        ""
      ],
      "execution_count": null,
      "outputs": []
    }
  ]
}